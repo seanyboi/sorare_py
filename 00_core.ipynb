{
 "cells": [
  {
   "cell_type": "code",
   "execution_count": null,
   "metadata": {},
   "outputs": [],
   "source": [
    "%load_ext autoreload\n",
    "%autoreload 2"
   ]
  },
  {
   "cell_type": "code",
   "execution_count": null,
   "metadata": {},
   "outputs": [],
   "source": [
    "# default_exp core"
   ]
  },
  {
   "cell_type": "markdown",
   "metadata": {},
   "source": [
    "# LoginSorare\n",
    "\n",
    "> Login to sorare using email to have access to sorare data."
   ]
  },
  {
   "cell_type": "code",
   "execution_count": null,
   "metadata": {},
   "outputs": [],
   "source": [
    "#hide\n",
    "from nbdev.showdoc import *"
   ]
  },
  {
   "cell_type": "code",
   "execution_count": null,
   "metadata": {},
   "outputs": [],
   "source": [
    "import requests\n",
    "import json\n",
    "import bcrypt\n",
    "from typing import Dict"
   ]
  },
  {
   "cell_type": "code",
   "execution_count": null,
   "metadata": {},
   "outputs": [],
   "source": [
    "class LoginError(Exception):\n",
    "    pass"
   ]
  },
  {
   "cell_type": "code",
   "execution_count": null,
   "metadata": {},
   "outputs": [],
   "source": [
    "class LoginSorare():\n",
    "    def __init__(self, app_name: str, email: str, password: str, two_factor: str = None):\n",
    "        if not isinstance(app_name, str):\n",
    "            raise TypeError(\"App name must be a string\")\n",
    "        if not isinstance(email, str):\n",
    "            raise TypeError(\"Email name must be a string\")\n",
    "        if not isinstance(password, str):\n",
    "            raise TypeError(\"Password name must be a string\")   \n",
    "        if not isinstance(two_factor, str):\n",
    "            raise TypeError(\"Two factor name must be a string\")\n",
    "        \n",
    "        self.app_name = app_name \n",
    "        self.email = email\n",
    "        self.password = password\n",
    "        self.two_factor = two_factor\n",
    "        \n",
    "\n",
    "    def post_query(func):\n",
    "        def run_post_query(self, *args, **kwargs):\n",
    "            try:\n",
    "                query, variables = func(self)\n",
    "                return requests.post(kwargs[\"url\"], \n",
    "                             json={'query': query, 'OperationName': kwargs[\"ops_name\"], 'variables': variables}, \n",
    "                             headers=kwargs[\"headers\"])\n",
    "            except:\n",
    "                LoginError(\"Please check email, password or two factor token\")\n",
    "        return run_post_query\n",
    "    \n",
    "    \n",
    "    @post_query\n",
    "    def login_query(self):\n",
    "        if bool(self.two_factor):\n",
    "            variables = {\n",
    "              \"input\": {\n",
    "                \"otpSessionChallenge\": self.opt_challenge,\n",
    "                \"otpAttempt\": self.two_factor\n",
    "              }\n",
    "            }\n",
    "        else:\n",
    "            variables = {\n",
    "              \"input\": {\n",
    "                \"email\": self.email,\n",
    "                \"password\": self.retrieve_password()\n",
    "              }\n",
    "            }\n",
    "                    \n",
    "        query = f\"\"\"\n",
    "            mutation SignInMutation($input: signInInput!){{\n",
    "              signIn(input: $input) {{\n",
    "                currentUser {{\n",
    "                  slug\n",
    "                  jwtToken(aud: \"{self.app_name}\") {{\n",
    "                    token\n",
    "                    expiredAt\n",
    "                  }}\n",
    "                }}\n",
    "                errors {{\n",
    "                  message\n",
    "                }}\n",
    "              }}\n",
    "            }}\n",
    "        \"\"\"\n",
    "        return query, variables\n",
    "    \n",
    "    @post_query\n",
    "    def two_factor_query(self):\n",
    "        \n",
    "        variables = {\n",
    "              \"input\": {\n",
    "                \"email\": self.email,\n",
    "                \"password\": self.retrieve_password()\n",
    "              }\n",
    "        }\n",
    "        \n",
    "        query = f\"\"\"\n",
    "            mutation SignInMutation($input: signInInput!) {{\n",
    "              signIn(input: $input) {{\n",
    "                currentUser {{\n",
    "                  slug\n",
    "                  jwtToken(aud: \"{self.app_name}\") {{\n",
    "                    token\n",
    "                    expiredAt\n",
    "                  }}\n",
    "                }}\n",
    "                otpSessionChallenge\n",
    "                errors {{\n",
    "                  message\n",
    "                }}\n",
    "              }}\n",
    "            }}\n",
    "        \"\"\"\n",
    "        \n",
    "        return query, variables\n",
    "    \n",
    "    def retrieve_password(self):\n",
    "        r = requests.get(f\"https://api.sorare.com/api/v1/users/{self.email}\")\n",
    "        response = json.loads(r.content)\n",
    "        salt = response[\"salt\"].encode(\"utf-8\")\n",
    "        hashed_password = bcrypt.hashpw(self.password.encode(\"utf-8\"), salt).decode(\"utf8\")\n",
    "        return hashed_password\n",
    "    \n",
    "\n",
    "    def login(self):\n",
    "        headers = {\"content-type\": \"application/json\"}\n",
    "        url = \"https://api.sorare.com/graphql\"\n",
    "        \n",
    "        if bool(self.two_factor):\n",
    "            try:\n",
    "                query_factor = self.two_factor_query(url=url, headers=headers, ops_name='SignInMutation')\n",
    "                query_response = json.loads(query_factor.content)\n",
    "\n",
    "                errors = query_response.get(\"data\",{}).get(\"signIn\", {}).get(\"errors\", [])\n",
    "                \n",
    "                if len(errors) and errors[0]['message'] != \"2fa_missing\":\n",
    "                    raise LoginError(f\"Please check email, password or two factor token - {errors[0]['message']}\")\n",
    "                    \n",
    "                self.opt_challenge = query_response.get(\"data\",{}).get(\"signIn\", {}).get(\"otpSessionChallenge\", None)\n",
    "                \n",
    "                query_login = self.login_query(url=url, headers=headers, ops_name='SignInMutation')\n",
    "                query_response = json.loads(query_login.content)\n",
    "                \n",
    "                jwt = query_response.get(\"data\",{}).get(\"signIn\", {}).get(\"currentUser\", {}).get(\"jwtToken\", {}).get(\"token\", {})\n",
    "                slug = query_response.get(\"data\",{}).get(\"signIn\", {}).get(\"currentUser\", {}).get(\"slug\", {})\n",
    "                \n",
    "                return jwt, slug\n",
    "            \n",
    "            except ValueError:\n",
    "                raise LoginError(\"Please check email, password or two factor token\")\n",
    "        else:\n",
    "            try:\n",
    "                query = self.login_query(url=url, headers=headers, ops_name='SignInMutation')\n",
    "                query_response = json.loads(query.content)\n",
    "                errors = query_response.get(\"data\",{}).get(\"signIn\", {}).get(\"errors\", [])\n",
    "                if len(errors):\n",
    "                    raise LoginError(\"Please check email, password or two factor token\")\n",
    "                else:\n",
    "                    jwt = query_response.get(\"data\",{}).get(\"signIn\", {}).get(\"currentUser\", {}).get(\"jwtToken\", {}).get(\"token\", {})\n",
    "                    slug = query_response.get(\"data\",{}).get(\"signIn\", {}).get(\"currentUser\", {}).get(\"slug\", {})\n",
    "                    return jwt, slug\n",
    "            except ValueError:\n",
    "                raise LoginError(\"Please check email, password or two factor token\")\n"
   ]
  },
  {
   "cell_type": "code",
   "execution_count": null,
   "metadata": {},
   "outputs": [],
   "source": [
    "l = LoginSorare(app_name=\"test_app\", email=\"abc@gmail.com\", password=\"abc\", two_factor=\"12345\")\n",
    "token, club_name = l.login()"
   ]
  },
  {
   "cell_type": "code",
   "execution_count": null,
   "metadata": {},
   "outputs": [
    {
     "name": "stdout",
     "output_type": "stream",
     "text": [
      "Converted 00_core.ipynb.\n",
      "Converted index.ipynb.\n"
     ]
    }
   ],
   "source": [
    "from nbdev.export import notebook2script; notebook2script()"
   ]
  }
 ],
 "metadata": {
  "kernelspec": {
   "display_name": "Python 3 (ipykernel)",
   "language": "python",
   "name": "python3"
  }
 },
 "nbformat": 4,
 "nbformat_minor": 2
}
