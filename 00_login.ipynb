{
 "cells": [
  {
   "cell_type": "code",
   "execution_count": null,
   "metadata": {},
   "outputs": [],
   "source": [
    "# hide\n",
    "%load_ext autoreload\n",
    "%autoreload 2"
   ]
  },
  {
   "cell_type": "code",
   "execution_count": null,
   "metadata": {},
   "outputs": [],
   "source": [
    "# default_exp login"
   ]
  },
  {
   "cell_type": "markdown",
   "metadata": {},
   "source": [
    "# LoginSorare\n",
    "\n",
    "> Login to sorare using email to have access to sorare data."
   ]
  },
  {
   "cell_type": "code",
   "execution_count": null,
   "metadata": {},
   "outputs": [],
   "source": [
    "# hide\n",
    "from nbdev.showdoc import *"
   ]
  },
  {
   "cell_type": "code",
   "execution_count": null,
   "metadata": {},
   "outputs": [],
   "source": [
    "# export\n",
    "import requests\n",
    "import json\n",
    "import bcrypt\n",
    "from typing import Dict, Tuple"
   ]
  },
  {
   "cell_type": "code",
   "execution_count": null,
   "metadata": {},
   "outputs": [],
   "source": [
    "# exporti\n",
    "class LoginError(Exception):\n",
    "    pass"
   ]
  },
  {
   "cell_type": "code",
   "execution_count": null,
   "metadata": {},
   "outputs": [],
   "source": [
    "# export\n",
    "class LoginSorare():\n",
    "    def __init__(self, app_name: str, email: str, password: str, two_factor: str = None):\n",
    "        '''\n",
    "        Wrapper to allow users to retreieve their JWT and club name.\n",
    "\n",
    "        `app_name`: Name you wish to call your app.\n",
    "       <br/>`email`: Email address you use to login to your Sorare account.\n",
    "       <br/>`password`: Password you use to login to your Sorare account.\n",
    "       `two_factor`: Two factor you use to login to your Sorare account.\n",
    "        '''\n",
    "        if not isinstance(app_name, str):\n",
    "            raise TypeError(\"App name must be a string\")\n",
    "        if not isinstance(email, str):\n",
    "            raise TypeError(\"Email name must be a string\")\n",
    "        if not isinstance(password, str):\n",
    "            raise TypeError(\"Password name must be a string\")\n",
    "        if not isinstance(two_factor, str):\n",
    "            raise TypeError(\"Two factor name must be a string\")\n",
    "\n",
    "        self.app_name = app_name\n",
    "        self.email = email\n",
    "        self.password = password\n",
    "        self.two_factor = two_factor\n",
    "\n",
    "\n",
    "    def post_query(func) -> Dict:\n",
    "        def run_post_query(self, *args, **kwargs):\n",
    "            try:\n",
    "                query, variables = func(self)\n",
    "                return requests.post(kwargs[\"url\"],\n",
    "                             json={'query': query, 'OperationName': kwargs[\"ops_name\"], 'variables': variables},\n",
    "                             headers=kwargs[\"headers\"])\n",
    "            except:\n",
    "                LoginError(\"Please check email, password or two factor token\")\n",
    "        return run_post_query\n",
    "\n",
    "\n",
    "    @post_query\n",
    "    def login_query(self) -> Tuple[str, str]:\n",
    "        if bool(self.two_factor):\n",
    "            variables = {\n",
    "              \"input\": {\n",
    "                \"otpSessionChallenge\": self.opt_challenge,\n",
    "                \"otpAttempt\": self.two_factor\n",
    "              }\n",
    "            }\n",
    "        else:\n",
    "            variables = {\n",
    "              \"input\": {\n",
    "                \"email\": self.email,\n",
    "                \"password\": self.retrieve_password()\n",
    "              }\n",
    "            }\n",
    "\n",
    "        query = f\"\"\"\n",
    "            mutation SignInMutation($input: signInInput!){{\n",
    "              signIn(input: $input) {{\n",
    "                currentUser {{\n",
    "                  slug\n",
    "                  jwtToken(aud: \"{self.app_name}\") {{\n",
    "                    token\n",
    "                    expiredAt\n",
    "                  }}\n",
    "                }}\n",
    "                errors {{\n",
    "                  message\n",
    "                }}\n",
    "              }}\n",
    "            }}\n",
    "        \"\"\"\n",
    "        return query, variables\n",
    "\n",
    "    @post_query\n",
    "    def two_factor_query(self) -> Tuple[str, str]:\n",
    "\n",
    "        variables = {\n",
    "              \"input\": {\n",
    "                \"email\": self.email,\n",
    "                \"password\": self.retrieve_password()\n",
    "              }\n",
    "        }\n",
    "\n",
    "        query = f\"\"\"\n",
    "            mutation SignInMutation($input: signInInput!) {{\n",
    "              signIn(input: $input) {{\n",
    "                currentUser {{\n",
    "                  slug\n",
    "                  jwtToken(aud: \"{self.app_name}\") {{\n",
    "                    token\n",
    "                    expiredAt\n",
    "                  }}\n",
    "                }}\n",
    "                otpSessionChallenge\n",
    "                errors {{\n",
    "                  message\n",
    "                }}\n",
    "              }}\n",
    "            }}\n",
    "        \"\"\"\n",
    "\n",
    "        return query, variables\n",
    "\n",
    "    def retrieve_password(self) -> str:\n",
    "        r = requests.get(f\"https://api.sorare.com/api/v1/users/{self.email}\")\n",
    "        response = json.loads(r.content)\n",
    "        salt = response[\"salt\"].encode(\"utf-8\")\n",
    "        hashed_password = bcrypt.hashpw(self.password.encode(\"utf-8\"), salt).decode(\"utf8\")\n",
    "        return hashed_password\n",
    "\n",
    "\n",
    "    def login(self) -> Tuple[str, str]:\n",
    "        '''\n",
    "        Retrieves JWT and club name.\n",
    "        '''\n",
    "        headers = {\"content-type\": \"application/json\"}\n",
    "        url = \"https://api.sorare.com/graphql\"\n",
    "\n",
    "        if bool(self.two_factor):\n",
    "            try:\n",
    "                query_factor = self.two_factor_query(url=url, headers=headers, ops_name='SignInMutation')\n",
    "                query_response = json.loads(query_factor.content)\n",
    "\n",
    "                errors = query_response.get(\"data\",{}).get(\"signIn\", {}).get(\"errors\", [])\n",
    "\n",
    "                if len(errors) and errors[0]['message'] != \"2fa_missing\":\n",
    "                    raise LoginError(f\"Please check email, password or two factor token - {errors[0]['message']}\")\n",
    "\n",
    "                self.opt_challenge = query_response.get(\"data\",{}).get(\"signIn\", {}).get(\"otpSessionChallenge\", None)\n",
    "\n",
    "                query_login = self.login_query(url=url, headers=headers, ops_name='SignInMutation')\n",
    "                query_response = json.loads(query_login.content)\n",
    "\n",
    "                jwt = query_response.get(\"data\",{}).get(\"signIn\", {}).get(\"currentUser\", {}).get(\"jwtToken\", {}).get(\"token\", {})\n",
    "                slug = query_response.get(\"data\",{}).get(\"signIn\", {}).get(\"currentUser\", {}).get(\"slug\", {})\n",
    "\n",
    "                return jwt, slug\n",
    "\n",
    "            except ValueError:\n",
    "                raise LoginError(\"Please check email, password or two factor token\")\n",
    "        else:\n",
    "            try:\n",
    "                query = self.login_query(url=url, headers=headers, ops_name='SignInMutation')\n",
    "                query_response = json.loads(query.content)\n",
    "                errors = query_response.get(\"data\",{}).get(\"signIn\", {}).get(\"errors\", [])\n",
    "                if len(errors):\n",
    "                    raise LoginError(\"Please check email, password or two factor token\")\n",
    "                else:\n",
    "                    jwt = query_response.get(\"data\",{}).get(\"signIn\", {}).get(\"currentUser\", {}).get(\"jwtToken\", {}).get(\"token\", {})\n",
    "                    slug = query_response.get(\"data\",{}).get(\"signIn\", {}).get(\"currentUser\", {}).get(\"slug\", {})\n",
    "                    return jwt, slug\n",
    "            except ValueError:\n",
    "                raise LoginError(\"Please check email, password or two factor token\")"
   ]
  },
  {
   "cell_type": "code",
   "execution_count": null,
   "metadata": {},
   "outputs": [
    {
     "data": {
      "text/markdown": [
       "<h4 id=\"LoginSorare.login\" class=\"doc_header\"><code>LoginSorare.login</code><a href=\"__main__.py#L112\" class=\"source_link\" style=\"float:right\">[source]</a></h4>\n",
       "\n",
       "> <code>LoginSorare.login</code>()\n",
       "\n",
       "Retrieves JWT and club name."
      ],
      "text/plain": [
       "<IPython.core.display.Markdown object>"
      ]
     },
     "metadata": {},
     "output_type": "display_data"
    }
   ],
   "source": [
    "show_doc(LoginSorare.login)"
   ]
  },
  {
   "cell_type": "code",
   "execution_count": null,
   "metadata": {},
   "outputs": [
    {
     "name": "stdout",
     "output_type": "stream",
     "text": [
      "Converted 00_login.ipynb.\n",
      "Converted index.ipynb.\n"
     ]
    }
   ],
   "source": [
    "# hide\n",
    "from nbdev.export import notebook2script; notebook2script()"
   ]
  }
 ],
 "metadata": {
  "kernelspec": {
   "display_name": "Python 3 (ipykernel)",
   "language": "python",
   "name": "python3"
  }
 },
 "nbformat": 4,
 "nbformat_minor": 2
}
