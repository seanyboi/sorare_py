{
 "cells": [
  {
   "cell_type": "code",
   "execution_count": null,
   "metadata": {},
   "outputs": [],
   "source": [
    "# hide\n",
    "%load_ext autoreload\n",
    "%autoreload 2"
   ]
  },
  {
   "cell_type": "code",
   "execution_count": null,
   "metadata": {},
   "outputs": [],
   "source": [
    "# default_exp login"
   ]
  },
  {
   "cell_type": "markdown",
   "metadata": {},
   "source": [
    "# LoginSorare\n",
    "\n",
    "> Login to sorare using email to have access to sorare data."
   ]
  },
  {
   "cell_type": "code",
   "execution_count": null,
   "metadata": {},
   "outputs": [],
   "source": [
    "# hide\n",
    "from nbdev.showdoc import *"
   ]
  },
  {
   "cell_type": "code",
   "execution_count": null,
   "metadata": {},
   "outputs": [],
   "source": [
    "# export\n",
    "import requests\n",
    "import json\n",
    "import bcrypt\n",
    "from typing import Dict, Tuple"
   ]
  },
  {
   "cell_type": "code",
   "execution_count": null,
   "metadata": {},
   "outputs": [],
   "source": [
    "# export\n",
    "class LoginError(Exception):\n",
    "    pass"
   ]
  },
  {
   "cell_type": "code",
   "execution_count": null,
   "metadata": {},
   "outputs": [],
   "source": [
    "# export\n",
    "class LoginSorare():\n",
    "    def __init__(self, app_name: str, email: str, password: str, two_factor: str = None):\n",
    "        '''\n",
    "        Wrapper to allow users to retreieve their JWT and club name.\n",
    "\n",
    "        `app_name`: Name you wish to call your app.\n",
    "       <br/>`email`: Email address you use to login to your Sorare account.\n",
    "       <br/>`password`: Password you use to login to your Sorare account.\n",
    "       `two_factor`: Two factor you use to login to your Sorare account.\n",
    "        '''\n",
    "        if not isinstance(app_name, str):\n",
    "            raise TypeError(\"App name must be a string\")\n",
    "        if not isinstance(email, str):\n",
    "            raise TypeError(\"Email name must be a string\")\n",
    "        if not isinstance(password, str):\n",
    "            raise TypeError(\"Password name must be a string\")\n",
    "        if not isinstance(two_factor, str):\n",
    "            raise TypeError(\"Two factor name must be a string\")\n",
    "\n",
    "        self.app_name = app_name\n",
    "        self.email = email\n",
    "        self.password = password\n",
    "        self.two_factor = two_factor\n",
    "\n",
    "\n",
    "    def post_query(func) -> Dict:\n",
    "        def run_post_query(self, *args, **kwargs):\n",
    "            try:\n",
    "                query, variables = func(self)\n",
    "                return requests.post(kwargs[\"url\"],\n",
    "                             json={'query': query, 'OperationName': kwargs[\"ops_name\"], 'variables': variables},\n",
    "                             headers=kwargs[\"headers\"])\n",
    "            except:\n",
    "                LoginError(\"Please check email, password or two factor token\")\n",
    "        return run_post_query\n",
    "\n",
    "\n",
    "    @post_query\n",
    "    def login_query(self) -> Tuple[str, str]:\n",
    "        if bool(self.two_factor):\n",
    "            variables = {\n",
    "              \"input\": {\n",
    "                \"otpSessionChallenge\": self.opt_challenge,\n",
    "                \"otpAttempt\": self.two_factor\n",
    "              }\n",
    "            }\n",
    "        else:\n",
    "            variables = {\n",
    "              \"input\": {\n",
    "                \"email\": self.email,\n",
    "                \"password\": self.retrieve_password()\n",
    "              }\n",
    "            }\n",
    "\n",
    "        query = f\"\"\"\n",
    "            mutation SignInMutation($input: signInInput!){{\n",
    "              signIn(input: $input) {{\n",
    "                currentUser {{\n",
    "                  slug\n",
    "                  jwtToken(aud: \"{self.app_name}\") {{\n",
    "                    token\n",
    "                    expiredAt\n",
    "                  }}\n",
    "                }}\n",
    "                errors {{\n",
    "                  message\n",
    "                }}\n",
    "              }}\n",
    "            }}\n",
    "        \"\"\"\n",
    "        return query, variables\n",
    "\n",
    "    @post_query\n",
    "    def two_factor_query(self) -> Tuple[str, str]:\n",
    "\n",
    "        variables = {\n",
    "              \"input\": {\n",
    "                \"email\": self.email,\n",
    "                \"password\": self.retrieve_password()\n",
    "              }\n",
    "        }\n",
    "\n",
    "        query = f\"\"\"\n",
    "            mutation SignInMutation($input: signInInput!) {{\n",
    "              signIn(input: $input) {{\n",
    "                currentUser {{\n",
    "                  slug\n",
    "                  jwtToken(aud: \"{self.app_name}\") {{\n",
    "                    token\n",
    "                    expiredAt\n",
    "                  }}\n",
    "                }}\n",
    "                otpSessionChallenge\n",
    "                errors {{\n",
    "                  message\n",
    "                }}\n",
    "              }}\n",
    "            }}\n",
    "        \"\"\"\n",
    "\n",
    "        return query, variables\n",
    "\n",
    "    def retrieve_password(self) -> str:\n",
    "        r = requests.get(f\"https://api.sorare.com/api/v1/users/{self.email}\")\n",
    "        response = json.loads(r.content)\n",
    "        salt = response[\"salt\"].encode(\"utf-8\")\n",
    "        hashed_password = bcrypt.hashpw(self.password.encode(\"utf-8\"), salt).decode(\"utf8\")\n",
    "        return hashed_password\n",
    "\n",
    "\n",
    "    def login(self) -> Tuple[str, str]:\n",
    "        '''\n",
    "        Retrieves JWT and club name.\n",
    "        '''\n",
    "        headers = {\"content-type\": \"application/json\"}\n",
    "        url = \"https://api.sorare.com/graphql\"\n",
    "\n",
    "        if bool(self.two_factor):\n",
    "            try:\n",
    "                query_factor = self.two_factor_query(url=url, headers=headers, ops_name='SignInMutation')\n",
    "                query_response = json.loads(query_factor.content)\n",
    "\n",
    "                errors = query_response.get(\"data\",{}).get(\"signIn\", {}).get(\"errors\", [])\n",
    "\n",
    "                if len(errors) and errors[0]['message'] != \"2fa_missing\":\n",
    "                    raise LoginError(f\"Please check email, password or two factor token - {errors[0]['message']}\")\n",
    "\n",
    "                self.opt_challenge = query_response.get(\"data\",{}).get(\"signIn\", {}).get(\"otpSessionChallenge\", None)\n",
    "\n",
    "                query_login = self.login_query(url=url, headers=headers, ops_name='SignInMutation')\n",
    "                query_response = json.loads(query_login.content)\n",
    "\n",
    "                jwt = query_response.get(\"data\",{}).get(\"signIn\", {}).get(\"currentUser\", {}).get(\"jwtToken\", {}).get(\"token\", {})\n",
    "                slug = query_response.get(\"data\",{}).get(\"signIn\", {}).get(\"currentUser\", {}).get(\"slug\", {})\n",
    "\n",
    "                return jwt, slug\n",
    "\n",
    "            except ValueError:\n",
    "                raise LoginError(\"Please check email, password or two factor token\")\n",
    "        else:\n",
    "            try:\n",
    "                query = self.login_query(url=url, headers=headers, ops_name='SignInMutation')\n",
    "                query_response = json.loads(query.content)\n",
    "                errors = query_response.get(\"data\",{}).get(\"signIn\", {}).get(\"errors\", [])\n",
    "                if len(errors):\n",
    "                    raise LoginError(\"Please check email, password or two factor token\")\n",
    "                else:\n",
    "                    jwt = query_response.get(\"data\",{}).get(\"signIn\", {}).get(\"currentUser\", {}).get(\"jwtToken\", {}).get(\"token\", {})\n",
    "                    slug = query_response.get(\"data\",{}).get(\"signIn\", {}).get(\"currentUser\", {}).get(\"slug\", {})\n",
    "                    return jwt, slug\n",
    "            except ValueError:\n",
    "                raise LoginError(\"Please check email, password or two factor token\")"
   ]
  },
  {
   "cell_type": "code",
   "execution_count": null,
   "metadata": {},
   "outputs": [
    {
     "data": {
      "text/markdown": [
       "<h4 id=\"LoginSorare.login\" class=\"doc_header\"><code>LoginSorare.login</code><a href=\"__main__.py#L112\" class=\"source_link\" style=\"float:right\">[source]</a></h4>\n",
       "\n",
       "> <code>LoginSorare.login</code>()\n",
       "\n",
       "Retrieves JWT and club name."
      ],
      "text/plain": [
       "<IPython.core.display.Markdown object>"
      ]
     },
     "metadata": {},
     "output_type": "display_data"
    }
   ],
   "source": [
    "show_doc(LoginSorare.login)"
   ]
  },
  {
   "cell_type": "code",
   "execution_count": null,
   "metadata": {},
   "outputs": [
    {
     "ename": "LoginError",
     "evalue": "Please check email, password or two factor token - invalid",
     "output_type": "error",
     "traceback": [
      "\u001b[0;31m---------------------------------------------------------------------------\u001b[0m",
      "\u001b[0;31mLoginError\u001b[0m                                Traceback (most recent call last)",
      "Input \u001b[0;32mIn [14]\u001b[0m, in \u001b[0;36m<cell line: 3>\u001b[0;34m()\u001b[0m\n\u001b[1;32m      1\u001b[0m \u001b[38;5;66;03m# skip\u001b[39;00m\n\u001b[1;32m      2\u001b[0m l \u001b[38;5;241m=\u001b[39m LoginSorare(app_name\u001b[38;5;241m=\u001b[39m\u001b[38;5;124m\"\u001b[39m\u001b[38;5;124mtest_app\u001b[39m\u001b[38;5;124m\"\u001b[39m, email\u001b[38;5;241m=\u001b[39m\u001b[38;5;124m\"\u001b[39m\u001b[38;5;124mabc@gmail.com\u001b[39m\u001b[38;5;124m\"\u001b[39m, password\u001b[38;5;241m=\u001b[39m\u001b[38;5;124m\"\u001b[39m\u001b[38;5;124mabc\u001b[39m\u001b[38;5;124m\"\u001b[39m, two_factor\u001b[38;5;241m=\u001b[39m\u001b[38;5;124m\"\u001b[39m\u001b[38;5;124m12345\u001b[39m\u001b[38;5;124m\"\u001b[39m)\n\u001b[0;32m----> 3\u001b[0m token, club_name \u001b[38;5;241m=\u001b[39m \u001b[43ml\u001b[49m\u001b[38;5;241;43m.\u001b[39;49m\u001b[43mlogin\u001b[49m\u001b[43m(\u001b[49m\u001b[43m)\u001b[49m\n",
      "Input \u001b[0;32mIn [12]\u001b[0m, in \u001b[0;36mLoginSorare.login\u001b[0;34m(self)\u001b[0m\n\u001b[1;32m    124\u001b[0m errors \u001b[38;5;241m=\u001b[39m query_response\u001b[38;5;241m.\u001b[39mget(\u001b[38;5;124m\"\u001b[39m\u001b[38;5;124mdata\u001b[39m\u001b[38;5;124m\"\u001b[39m,{})\u001b[38;5;241m.\u001b[39mget(\u001b[38;5;124m\"\u001b[39m\u001b[38;5;124msignIn\u001b[39m\u001b[38;5;124m\"\u001b[39m, {})\u001b[38;5;241m.\u001b[39mget(\u001b[38;5;124m\"\u001b[39m\u001b[38;5;124merrors\u001b[39m\u001b[38;5;124m\"\u001b[39m, [])\n\u001b[1;32m    126\u001b[0m \u001b[38;5;28;01mif\u001b[39;00m \u001b[38;5;28mlen\u001b[39m(errors) \u001b[38;5;129;01mand\u001b[39;00m errors[\u001b[38;5;241m0\u001b[39m][\u001b[38;5;124m'\u001b[39m\u001b[38;5;124mmessage\u001b[39m\u001b[38;5;124m'\u001b[39m] \u001b[38;5;241m!=\u001b[39m \u001b[38;5;124m\"\u001b[39m\u001b[38;5;124m2fa_missing\u001b[39m\u001b[38;5;124m\"\u001b[39m:\n\u001b[0;32m--> 127\u001b[0m     \u001b[38;5;28;01mraise\u001b[39;00m LoginError(\u001b[38;5;124mf\u001b[39m\u001b[38;5;124m\"\u001b[39m\u001b[38;5;124mPlease check email, password or two factor token - \u001b[39m\u001b[38;5;132;01m{\u001b[39;00merrors[\u001b[38;5;241m0\u001b[39m][\u001b[38;5;124m'\u001b[39m\u001b[38;5;124mmessage\u001b[39m\u001b[38;5;124m'\u001b[39m]\u001b[38;5;132;01m}\u001b[39;00m\u001b[38;5;124m\"\u001b[39m)\n\u001b[1;32m    129\u001b[0m \u001b[38;5;28mself\u001b[39m\u001b[38;5;241m.\u001b[39mopt_challenge \u001b[38;5;241m=\u001b[39m query_response\u001b[38;5;241m.\u001b[39mget(\u001b[38;5;124m\"\u001b[39m\u001b[38;5;124mdata\u001b[39m\u001b[38;5;124m\"\u001b[39m,{})\u001b[38;5;241m.\u001b[39mget(\u001b[38;5;124m\"\u001b[39m\u001b[38;5;124msignIn\u001b[39m\u001b[38;5;124m\"\u001b[39m, {})\u001b[38;5;241m.\u001b[39mget(\u001b[38;5;124m\"\u001b[39m\u001b[38;5;124motpSessionChallenge\u001b[39m\u001b[38;5;124m\"\u001b[39m, \u001b[38;5;28;01mNone\u001b[39;00m)\n\u001b[1;32m    131\u001b[0m query_login \u001b[38;5;241m=\u001b[39m \u001b[38;5;28mself\u001b[39m\u001b[38;5;241m.\u001b[39mlogin_query(url\u001b[38;5;241m=\u001b[39murl, headers\u001b[38;5;241m=\u001b[39mheaders, ops_name\u001b[38;5;241m=\u001b[39m\u001b[38;5;124m'\u001b[39m\u001b[38;5;124mSignInMutation\u001b[39m\u001b[38;5;124m'\u001b[39m)\n",
      "\u001b[0;31mLoginError\u001b[0m: Please check email, password or two factor token - invalid"
     ]
    }
   ],
   "source": [
    "# skip\n",
    "l = LoginSorare(app_name=\"test_app\", email=\"abc@gmail.com\", password=\"abc\", two_factor=\"12345\")\n",
    "token, club_name = l.login()"
   ]
  },
  {
   "cell_type": "code",
   "execution_count": null,
   "metadata": {},
   "outputs": [
    {
     "name": "stdout",
     "output_type": "stream",
     "text": [
      "Warning: Exporting to \"hide.py\" but this module is not part of this build\n"
     ]
    },
    {
     "ename": "FileNotFoundError",
     "evalue": "[Errno 2] No such file or directory: '/Users/sean/Development/Personal/sorarepy/sorarepy/hide.py'",
     "output_type": "error",
     "traceback": [
      "\u001b[0;31m---------------------------------------------------------------------------\u001b[0m",
      "\u001b[0;31mFileNotFoundError\u001b[0m                         Traceback (most recent call last)",
      "Input \u001b[0;32mIn [15]\u001b[0m, in \u001b[0;36m<cell line: 2>\u001b[0;34m()\u001b[0m\n\u001b[1;32m      1\u001b[0m \u001b[38;5;66;03m# hide\u001b[39;00m\n\u001b[0;32m----> 2\u001b[0m \u001b[38;5;28;01mfrom\u001b[39;00m \u001b[38;5;21;01mnbdev\u001b[39;00m\u001b[38;5;21;01m.\u001b[39;00m\u001b[38;5;21;01mexport\u001b[39;00m \u001b[38;5;28;01mimport\u001b[39;00m notebook2script; \u001b[43mnotebook2script\u001b[49m\u001b[43m(\u001b[49m\u001b[43m)\u001b[49m\n",
      "File \u001b[0;32m~/Development/Personal/sorarepy/env/lib/python3.8/site-packages/nbdev/export.py:445\u001b[0m, in \u001b[0;36mnotebook2script\u001b[0;34m(fname, silent, to_dict, bare)\u001b[0m\n\u001b[1;32m    443\u001b[0m d \u001b[38;5;241m=\u001b[39m collections\u001b[38;5;241m.\u001b[39mdefaultdict(\u001b[38;5;28mlist\u001b[39m) \u001b[38;5;28;01mif\u001b[39;00m to_dict \u001b[38;5;28;01melse\u001b[39;00m \u001b[38;5;28;01mNone\u001b[39;00m\n\u001b[1;32m    444\u001b[0m modules \u001b[38;5;241m=\u001b[39m create_mod_files(files, to_dict, bare\u001b[38;5;241m=\u001b[39mbare)\n\u001b[0;32m--> 445\u001b[0m \u001b[38;5;28;01mfor\u001b[39;00m f \u001b[38;5;129;01min\u001b[39;00m \u001b[38;5;28msorted\u001b[39m(files): d \u001b[38;5;241m=\u001b[39m \u001b[43m_notebook2script\u001b[49m\u001b[43m(\u001b[49m\u001b[43mf\u001b[49m\u001b[43m,\u001b[49m\u001b[43m \u001b[49m\u001b[43mmodules\u001b[49m\u001b[43m,\u001b[49m\u001b[43m \u001b[49m\u001b[43msilent\u001b[49m\u001b[38;5;241;43m=\u001b[39;49m\u001b[43msilent\u001b[49m\u001b[43m,\u001b[49m\u001b[43m \u001b[49m\u001b[43mto_dict\u001b[49m\u001b[38;5;241;43m=\u001b[39;49m\u001b[43md\u001b[49m\u001b[43m,\u001b[49m\u001b[43m \u001b[49m\u001b[43mbare\u001b[49m\u001b[38;5;241;43m=\u001b[39;49m\u001b[43mbare\u001b[49m\u001b[43m)\u001b[49m\n\u001b[1;32m    446\u001b[0m \u001b[38;5;28;01mif\u001b[39;00m to_dict: \u001b[38;5;28;01mreturn\u001b[39;00m d\n\u001b[1;32m    447\u001b[0m \u001b[38;5;28;01melif\u001b[39;00m fname \u001b[38;5;129;01mis\u001b[39;00m \u001b[38;5;28;01mNone\u001b[39;00m: add_init(get_config()\u001b[38;5;241m.\u001b[39mpath(\u001b[38;5;124m\"\u001b[39m\u001b[38;5;124mlib_path\u001b[39m\u001b[38;5;124m\"\u001b[39m))\n",
      "File \u001b[0;32m~/Development/Personal/sorarepy/env/lib/python3.8/site-packages/nbdev/export.py:372\u001b[0m, in \u001b[0;36m_notebook2script\u001b[0;34m(fname, modules, silent, to_dict, bare)\u001b[0m\n\u001b[1;32m    370\u001b[0m code \u001b[38;5;241m=\u001b[39m _from_future_import(fname_out, flags, code, to_dict)\n\u001b[1;32m    371\u001b[0m \u001b[38;5;28;01mif\u001b[39;00m a:\n\u001b[0;32m--> 372\u001b[0m     \u001b[38;5;28;01mif\u001b[39;00m to_dict \u001b[38;5;129;01mis\u001b[39;00m \u001b[38;5;28;01mNone\u001b[39;00m: \u001b[43m_add2all\u001b[49m\u001b[43m(\u001b[49m\u001b[43mfname_out\u001b[49m\u001b[43m,\u001b[49m\u001b[43m \u001b[49m\u001b[43m[\u001b[49m\u001b[38;5;124;43mf\u001b[39;49m\u001b[38;5;124;43m\"\u001b[39;49m\u001b[38;5;124;43m'\u001b[39;49m\u001b[38;5;132;43;01m{\u001b[39;49;00m\u001b[43mf\u001b[49m\u001b[38;5;132;43;01m}\u001b[39;49;00m\u001b[38;5;124;43m'\u001b[39;49m\u001b[38;5;124;43m\"\u001b[39;49m\u001b[43m \u001b[49m\u001b[38;5;28;43;01mfor\u001b[39;49;00m\u001b[43m \u001b[49m\u001b[43mf\u001b[49m\u001b[43m \u001b[49m\u001b[38;5;129;43;01min\u001b[39;49;00m\u001b[43m \u001b[49m\u001b[43mnames\u001b[49m\u001b[43m \u001b[49m\u001b[38;5;28;43;01mif\u001b[39;49;00m\u001b[43m \u001b[49m\u001b[38;5;124;43m'\u001b[39;49m\u001b[38;5;124;43m.\u001b[39;49m\u001b[38;5;124;43m'\u001b[39;49m\u001b[43m \u001b[49m\u001b[38;5;129;43;01mnot\u001b[39;49;00m\u001b[43m \u001b[49m\u001b[38;5;129;43;01min\u001b[39;49;00m\u001b[43m \u001b[49m\u001b[43mf\u001b[49m\u001b[43m \u001b[49m\u001b[38;5;129;43;01mand\u001b[39;49;00m\u001b[43m \u001b[49m\u001b[38;5;28;43mlen\u001b[39;49m\u001b[43m(\u001b[49m\u001b[43mf\u001b[49m\u001b[43m)\u001b[49m\u001b[43m \u001b[49m\u001b[38;5;241;43m>\u001b[39;49m\u001b[43m \u001b[49m\u001b[38;5;241;43m0\u001b[39;49m\u001b[43m]\u001b[49m\u001b[43m \u001b[49m\u001b[38;5;241;43m+\u001b[39;49m\u001b[43m \u001b[49m\u001b[43mextra\u001b[49m\u001b[43m)\u001b[49m\n\u001b[1;32m    373\u001b[0m mod\u001b[38;5;241m.\u001b[39mindex\u001b[38;5;241m.\u001b[39mupdate({f: fname\u001b[38;5;241m.\u001b[39mname \u001b[38;5;28;01mfor\u001b[39;00m f \u001b[38;5;129;01min\u001b[39;00m names})\n\u001b[1;32m    374\u001b[0m code \u001b[38;5;241m=\u001b[39m re\u001b[38;5;241m.\u001b[39msub(\u001b[38;5;124mr\u001b[39m\u001b[38;5;124m'\u001b[39m\u001b[38;5;124m +$\u001b[39m\u001b[38;5;124m'\u001b[39m, \u001b[38;5;124m'\u001b[39m\u001b[38;5;124m'\u001b[39m, code, flags\u001b[38;5;241m=\u001b[39mre\u001b[38;5;241m.\u001b[39mMULTILINE)\n",
      "File \u001b[0;32m~/Development/Personal/sorarepy/env/lib/python3.8/site-packages/nbdev/export.py:212\u001b[0m, in \u001b[0;36m_add2all\u001b[0;34m(fname, names, line_width)\u001b[0m\n\u001b[1;32m    210\u001b[0m \u001b[38;5;28;01mdef\u001b[39;00m \u001b[38;5;21m_add2all\u001b[39m(fname, names, line_width\u001b[38;5;241m=\u001b[39m\u001b[38;5;241m120\u001b[39m):\n\u001b[1;32m    211\u001b[0m     \u001b[38;5;28;01mif\u001b[39;00m \u001b[38;5;28mlen\u001b[39m(names) \u001b[38;5;241m==\u001b[39m \u001b[38;5;241m0\u001b[39m: \u001b[38;5;28;01mreturn\u001b[39;00m\n\u001b[0;32m--> 212\u001b[0m     \u001b[38;5;28;01mwith\u001b[39;00m \u001b[38;5;28;43mopen\u001b[39;49m\u001b[43m(\u001b[49m\u001b[43mfname\u001b[49m\u001b[43m,\u001b[49m\u001b[43m \u001b[49m\u001b[38;5;124;43m'\u001b[39;49m\u001b[38;5;124;43mr\u001b[39;49m\u001b[38;5;124;43m'\u001b[39;49m\u001b[43m,\u001b[49m\u001b[43m \u001b[49m\u001b[43mencoding\u001b[49m\u001b[38;5;241;43m=\u001b[39;49m\u001b[38;5;124;43m'\u001b[39;49m\u001b[38;5;124;43mutf8\u001b[39;49m\u001b[38;5;124;43m'\u001b[39;49m\u001b[43m)\u001b[49m \u001b[38;5;28;01mas\u001b[39;00m f: text \u001b[38;5;241m=\u001b[39m f\u001b[38;5;241m.\u001b[39mread()\n\u001b[1;32m    213\u001b[0m     tw \u001b[38;5;241m=\u001b[39m TextWrapper(width\u001b[38;5;241m=\u001b[39m\u001b[38;5;241m120\u001b[39m, initial_indent\u001b[38;5;241m=\u001b[39m\u001b[38;5;124m'\u001b[39m\u001b[38;5;124m'\u001b[39m, subsequent_indent\u001b[38;5;241m=\u001b[39m\u001b[38;5;124m'\u001b[39m\u001b[38;5;124m \u001b[39m\u001b[38;5;124m'\u001b[39m\u001b[38;5;241m*\u001b[39m\u001b[38;5;241m11\u001b[39m, break_long_words\u001b[38;5;241m=\u001b[39m\u001b[38;5;28;01mFalse\u001b[39;00m)\n\u001b[1;32m    214\u001b[0m     re_all \u001b[38;5;241m=\u001b[39m _re__all__def\u001b[38;5;241m.\u001b[39msearch(text)\n",
      "\u001b[0;31mFileNotFoundError\u001b[0m: [Errno 2] No such file or directory: '/Users/sean/Development/Personal/sorarepy/sorarepy/hide.py'"
     ]
    }
   ],
   "source": [
    "# hide\n",
    "from nbdev.export import notebook2script; notebook2script()"
   ]
  },
  {
   "cell_type": "code",
   "execution_count": null,
   "metadata": {},
   "outputs": [],
   "source": []
  },
  {
   "cell_type": "code",
   "execution_count": null,
   "metadata": {},
   "outputs": [],
   "source": []
  }
 ],
 "metadata": {
  "kernelspec": {
   "display_name": "Python 3 (ipykernel)",
   "language": "python",
   "name": "python3"
  }
 },
 "nbformat": 4,
 "nbformat_minor": 2
}
